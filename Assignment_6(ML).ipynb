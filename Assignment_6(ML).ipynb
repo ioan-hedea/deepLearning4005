{
 "cells": [
  {
   "metadata": {},
   "cell_type": "markdown",
   "source": "<a href=\"https://colab.research.google.com/github/ioan-hedea/deepLearning4005/blob/main/Assignment_6(ML).ipynb\" target=\"_parent\"><img src=\"https://colab.research.google.com/assets/colab-badge.svg\" alt=\"Open In Colab\"/></a>"
  },
  {
   "metadata": {},
   "cell_type": "markdown",
   "source": [
    "# **Machine Learning - Assignment 6**\n",
    "\n",
    "*These lab assignments are new in the Machine and Deep Learning course. We'd like to hear what you think!*\n",
    "\n",
    "*Please post any feedback you have on Brightspace. Thanks!*\n"
   ]
  },
  {
   "metadata": {},
   "cell_type": "markdown",
   "source": "---"
  },
  {
   "metadata": {},
   "cell_type": "markdown",
   "source": [
    "## Introduction - Evaluation in Machine Learning\n",
    "\n",
    "In this assignment, you will learn about common evaluation techniques in machine learning. This includes evaluating the error of the classifier, analyzing the learning curves, and performing cross-validation.\n",
    "\n",
    "**Prerequisites:**\n",
    "* Basic working knowledge of multivariate statistics and linear algebra\n",
    "* Basic knowledge of Python and Numpy. Recommended tutorial for Python and Numpy [here](https://cs231n.github.io/python-numpy-tutorial/).\n",
    "\n",
    "**Learning objectives:**\n",
    "* Can explain what sources of performance variability there are in machine learning\n",
    "* Knowing what a learning curve is\n",
    "* Can understand the difference between train and test error\n",
    "* Can explain what cross-validation is and how it is used\n",
    "\n",
    "**Exercises types:**\n",
    "* **Pen \\& Paper** - Some exercises will ask you to write down mathematical derivations, calculations, explanations, or simple plots and representations. You can perform these exercises on paper or using a LaTeX editor.\n",
    "* **Coding** - Some exercises will ask you to write Python code."
   ]
  },
  {
   "metadata": {},
   "cell_type": "code",
   "outputs": [],
   "execution_count": null,
   "source": [
    "import numpy as np\n",
    "import matplotlib.pyplot as plt\n",
    "from sklearn import datasets"
   ]
  },
  {
   "metadata": {},
   "cell_type": "markdown",
   "source": "---"
  },
  {
   "metadata": {},
   "cell_type": "markdown",
   "source": "## 1 - Sources of Variation (**Coding**)"
  },
  {
   "metadata": {},
   "cell_type": "markdown",
   "source": [
    "### **Exercise 1.1**\n",
    "\n",
    "In this exercise we investigate the difference in behavior of the error on the training and the test set. Generate a large test set and study the variations in the classification error based on repeatedly generated training sets. Use one of the artificial datasets from the first week's assignment."
   ]
  },
  {
   "metadata": {
    "ExecuteTime": {
     "end_time": "2025-09-27T13:57:12.324391Z",
     "start_time": "2025-09-27T13:56:37.963661Z"
    }
   },
   "cell_type": "code",
   "source": [
    "# Exercise 1.1 — train/test error variability from re-sampled training sets\n",
    "import numpy as np\n",
    "import matplotlib.pyplot as plt\n",
    "from sklearn.datasets import make_moons\n",
    "from sklearn.model_selection import train_test_split\n",
    "from sklearn.neighbors import KNeighborsClassifier\n",
    "from sklearn.metrics import zero_one_loss\n",
    "\n",
    "rng = np.random.RandomState(42)\n",
    "\n",
    "# Big fixed test set for a low-variance estimate of \"true\" error\n",
    "X_all, y_all = make_moons(n_samples=200000, noise=0.25, random_state=0)\n",
    "X_test, y_test = X_all, y_all   # treat as the population test set\n",
    "\n",
    "def run_once(m_train=200, k=5):\n",
    "    # re-draw a *fresh* training set each time\n",
    "    X, y = make_moons(n_samples=m_train, noise=0.25, random_state=rng.randint(1_000_000))\n",
    "    clf = KNeighborsClassifier(n_neighbors=k)\n",
    "    clf.fit(X, y)\n",
    "    err_train = zero_one_loss(y, clf.predict(X))\n",
    "    err_test  = zero_one_loss(y_test, clf.predict(X_test))\n",
    "    return err_train, err_test\n",
    "\n",
    "R = 200   # repetitions\n",
    "errs_tr, errs_te = zip(*[run_once(m_train=200, k=5) for _ in range(R)])\n",
    "errs_tr, errs_te = np.array(errs_tr), np.array(errs_te)\n",
    "\n",
    "print(f\"Train error: mean={errs_tr.mean():.3f}  std={errs_tr.std():.3f}\")\n",
    "print(f\"Test  error: mean={errs_te.mean():.3f}  std={errs_te.std():.3f}\")\n",
    "\n",
    "figsize = (6, 3)\n",
    "plt.figure(figsize=figsize)\n",
    "\n",
    "plt.hist(errs_tr, bins=20, alpha=0.6, label=\"train\")\n",
    "plt.hist(errs_te, bins=20, alpha=0.6, label=\"test\")\n",
    "plt.xlabel(\"error\"); plt.ylabel(\"count\"); plt.legend(); plt.title(\"Variation over re-sampled training sets\")\n",
    "plt.show()"
   ],
   "outputs": [
    {
     "name": "stdout",
     "output_type": "stream",
     "text": [
      "Train error: mean=0.051  std=0.016\n",
      "Test  error: mean=0.064  std=0.004\n"
     ]
    },
    {
     "data": {
      "text/plain": [
       "<Figure size 600x300 with 1 Axes>"
      ],
      "image/png": "[encoded data removed]"
     },
     "metadata": {},
     "output_type": "display_data",
     "jetTransient": {
      "display_id": null
     }
    }
   ],
   "execution_count": 7
  },
  {
   "metadata": {},
   "cell_type": "markdown",
   "source": [
    "#### (a) What causes the variation in the error?\n",
    "\n",
    "Now do the same for different test sets:"
   ]
  },
  {
   "metadata": {
    "ExecuteTime": {
     "end_time": "2025-09-27T13:57:53.318667Z",
     "start_time": "2025-09-27T13:57:51.943777Z"
    }
   },
   "cell_type": "code",
   "source": [
    "# Re-draw both training and test sets each repetition\n",
    "def run_both(m_train=200, m_test=5000, k=5):\n",
    "    Xtr, ytr = make_moons(n_samples=m_train, noise=0.25, random_state=rng.randint(1_000_000))\n",
    "    Xte, yte = make_moons(n_samples=m_test,  noise=0.25, random_state=rng.randint(1_000_000))\n",
    "    clf = KNeighborsClassifier(n_neighbors=k)\n",
    "    clf.fit(Xtr, ytr)\n",
    "    err_train = zero_one_loss(ytr, clf.predict(Xtr))\n",
    "    err_test  = zero_one_loss(yte, clf.predict(Xte))\n",
    "    return err_train, err_test\n",
    "\n",
    "R = 200\n",
    "errs_tr2, errs_te2 = zip(*[run_both() for _ in range(R)])\n",
    "errs_tr2, errs_te2 = np.array(errs_tr2), np.array(errs_te2)\n",
    "\n",
    "print(f\"[Both vary] Train mean={errs_tr2.mean():.3f} std={errs_tr2.std():.3f}\")\n",
    "print(f\"[Both vary] Test  mean={errs_te2.mean():.3f} std={errs_te2.std():.3f}\")"
   ],
   "outputs": [
    {
     "name": "stdout",
     "output_type": "stream",
     "text": [
      "[Both vary] Train mean=0.049 std=0.014\n",
      "[Both vary] Test  mean=0.066 std=0.005\n"
     ]
    }
   ],
   "execution_count": 8
  },
  {
   "metadata": {},
   "cell_type": "markdown",
   "source": "#### (b) Again explain what causes the variance observed in the results."
  },
  {
   "metadata": {},
   "cell_type": "markdown",
   "source": "---"
  },
  {
   "metadata": {},
   "cell_type": "markdown",
   "source": "## 2 - Learning Curves (**Coding**)"
  },
  {
   "metadata": {},
   "cell_type": "markdown",
   "source": [
    "### **Exercise 2.1**\n",
    "\n",
    "Using prtools lib, generate Highleyman classes (gendath) with a 1000 samples per class. Enlarge the feature dimensionality of this set by adding 60 dimensions of class independent randomness, i.e., plain noise. After that, use the function pr.cleval to generate learning curves for nmc, ldc, and qdc using 64, 128, 256, and 512 objects in the training set (make sure that you repeat often enough. . . ). Note that cleval automatically plots the learning curves."
   ]
  },
  {
   "metadata": {},
   "cell_type": "code",
   "outputs": [],
   "execution_count": null,
   "source": [
    "%pip install --no-cache-dir --force-reinstall git+https://github.com/DMJTax/prtools.git#egg=prtools\n",
    "import prtools as pr"
   ]
  },
  {
   "metadata": {},
   "cell_type": "code",
   "outputs": [],
   "execution_count": null,
   "source": ""
  },
  {
   "metadata": {},
   "cell_type": "markdown",
   "source": "#### (a) Can you explain the overall behavior of these curves?"
  },
  {
   "metadata": {},
   "cell_type": "markdown",
   "source": "#### (b) Explain why the curves intersect. Which classifier performs best?"
  },
  {
   "metadata": {},
   "cell_type": "markdown",
   "source": "#### (c) What do you expect the limiting behavior of learning curves is? That is, if we were able to   train on more and more data?"
  },
  {
   "metadata": {},
   "cell_type": "markdown",
   "source": "---"
  },
  {
   "metadata": {},
   "cell_type": "markdown",
   "source": "## 3 - Cross-Validation (**Coding**)"
  },
  {
   "metadata": {},
   "cell_type": "markdown",
   "source": [
    "### **Exercise 3.1**\n",
    "\n",
    "Generate a small data set, say, with 10 objects per class."
   ]
  },
  {
   "metadata": {
    "ExecuteTime": {
     "end_time": "2025-09-27T13:58:04.385901Z",
     "start_time": "2025-09-27T13:58:04.381544Z"
    }
   },
   "cell_type": "code",
   "source": [
    "from sklearn.datasets import make_blobs\n",
    "X_small, y_small = make_blobs(n_samples=20, centers=2, cluster_std=1.2, random_state=1)  # 10 per class"
   ],
   "outputs": [],
   "execution_count": 9
  },
  {
   "metadata": {},
   "cell_type": "markdown",
   "source": "#### (a) Using n-fold cross-validation,make plots for the error rates for kNN and 1NN over different values of n. Also calculate the standard deviation of the error estimate, e.g., by performing the cross-validation 10 times"
  },
  {
   "metadata": {
    "ExecuteTime": {
     "end_time": "2025-09-27T13:58:18.573628Z",
     "start_time": "2025-09-27T13:58:18.290584Z"
    }
   },
   "cell_type": "code",
   "source": [
    "import numpy as np\n",
    "from sklearn.neighbors import KNeighborsClassifier\n",
    "from sklearn.model_selection import KFold, StratifiedKFold\n",
    "from sklearn.metrics import zero_one_loss\n",
    "\n",
    "def cv_errors(X, y, n_splits, k, repeats=10, seed=0):\n",
    "    rng = np.random.RandomState(seed)\n",
    "    errs = []\n",
    "    for r in range(repeats):\n",
    "        skf = StratifiedKFold(n_splits=n_splits, shuffle=True, random_state=rng.randint(1_000_000))\n",
    "        fold_errs = []\n",
    "        for tr, te in skf.split(X, y):\n",
    "            clf = KNeighborsClassifier(n_neighbors=k)\n",
    "            clf.fit(X[tr], y[tr])\n",
    "            fold_errs.append(zero_one_loss(y[te], clf.predict(X[te])))\n",
    "        errs.append(np.mean(fold_errs))\n",
    "    return np.mean(errs), np.std(errs)\n",
    "\n",
    "ns = [2, 5, 10]  # different n-fold values (with 20 samples, 10-fold is LOOCV per class)\n",
    "rows = []\n",
    "for n in ns:\n",
    "    m1, s1 = cv_errors(X_small, y_small, n_splits=n, k=1)\n",
    "    m5, s5 = cv_errors(X_small, y_small, n_splits=n, k=5)\n",
    "    rows.append((n, m1, s1, m5, s5))\n",
    "\n",
    "print(\"n_splits | 1NN mean±std | 5NN mean±std\")\n",
    "for n, m1, s1, m5, s5 in rows:\n",
    "    print(f\"{n:8d} | {m1:.3f}±{s1:.3f} | {m5:.3f}±{s5:.3f}\")"
   ],
   "outputs": [
    {
     "name": "stdout",
     "output_type": "stream",
     "text": [
      "n_splits | 1NN mean±std | 5NN mean±std\n",
      "       2 | 0.000±0.000 | 0.000±0.000\n",
      "       5 | 0.000±0.000 | 0.000±0.000\n",
      "      10 | 0.000±0.000 | 0.000±0.000\n"
     ]
    }
   ],
   "execution_count": 11
  },
  {
   "metadata": {},
   "cell_type": "markdown",
   "source": "#### (b) What do you notice about the estimated error rates? What is the general trend (maybe you should redo the data generation and the cross-validation a couple of times)."
  },
  {
   "metadata": {},
   "cell_type": "markdown",
   "source": "#### (c) What happens to the variance of the estimates for varying n? Again, we are interested in the general trend."
  },
  {
   "metadata": {},
   "cell_type": "markdown",
   "source": "#### (d) How would the observations change if one would repeat the experiments with much larger dataset? Would they change?"
  }
 ],
 "metadata": {
  "kernelspec": {
   "display_name": "Python 3 (ipykernel)",
   "language": "python",
   "name": "python3"
  },
  "language_info": {
   "codemirror_mode": {
    "name": "ipython",
    "version": 3
   },
   "file_extension": ".py",
   "mimetype": "text/x-python",
   "name": "python",
   "nbconvert_exporter": "python",
   "pygments_lexer": "ipython3",
   "version": "3.9.7"
  },
  "colab": {
   "provenance": [],
   "include_colab_link": true
  }
 },
 "nbformat": 4,
 "nbformat_minor": 0
}
