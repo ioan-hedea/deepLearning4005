{
 "nbformat": 4,
 "nbformat_minor": 0,
 "metadata": {
  "colab": {
   "provenance": []
  },
  "kernelspec": {
   "name": "python3",
   "display_name": "Python 3 (ipykernel)",
   "language": "python"
  }
 },
 "cells": [
  {
   "cell_type": "code",
   "metadata": {
    "id": "gIvAOzFjhtw6",
    "ExecuteTime": {
     "end_time": "2025-09-14T16:06:28.778337Z",
     "start_time": "2025-09-14T16:06:18.418536Z"
    }
   },
   "source": [
    "# Setup\n",
    "import torch\n",
    "import torch.nn as nn\n",
    "from torch.utils.data import DataLoader\n",
    "from torchvision import datasets, transforms\n",
    "import matplotlib.pyplot as plt"
   ],
   "outputs": [],
   "execution_count": 1
  },
  {
   "cell_type": "markdown",
   "metadata": {
    "id": "IuIHuF2dMzSV"
   },
   "source": [
    "## A2.1 Linear layer - backward pass\n",
    "\n",
    "In A2.1 we will build upon the linear layer from A1.1 and implement the backward pass. We then perform a forward pass and backward pass on some dummy input and compare the gradients to the Pytorch implementation of a Linear layer.\n",
    "\n",
    "**Backpropagation**\n",
    "\n",
    "Backpropagation is an efficient algorithm to modularly calculate the gradients of the loss $\\mathcal{L}$ with respect to the trainable parameters in our network. The gradient is used in (Stochastic) Gradient Descent to update the trainable parameters to minimize the loss. For now we only consider how to calculate the gradients in the `backward` function of a layer, later on we will also implement the update step.\n",
    "\n",
    "The forward pass of a linear layer is defined as $y=xw+b$, where $w$ and $b$ are the trainable weight and bias parameters, respectively. The gradients w.r.t. $w$ and $b$ are then calculated using the chain rule as\n",
    "$$\\frac{\\partial \\mathcal{L}}{\\partial w} = \\frac{\\partial \\mathcal{L}}{\\partial y} \\frac{\\partial y}{\\partial w}, \\qquad \\frac{\\partial \\mathcal{L}}{\\partial b} = \\frac{\\partial \\mathcal{L}}{\\partial y} \\frac{\\partial y}{\\partial b}.$$\n",
    "\n",
    "Here, $\\frac{\\partial \\mathcal{L}}{\\partial y}$ is the *upstream gradient*, i.e. the gradient flowing from the deeper layer into the current layer. The upstream gradient will be the input variable in our `backward` function.\n",
    "The other two terms are the *local gradients* and will be computed inside the `backward` function as\n",
    "$$\\frac{\\partial y}{\\partial w}=x, \\qquad \\frac{\\partial y}{\\partial b}=1.$$\n",
    "\n",
    "As you can see, the input of the layer $x$ is used for computing the gradient in the backward pass. We therefore need to store this value during the forward pass as a cache variable so that we don't have to compute it again.\n",
    "\n",
    "Furthermore, since the shallower layer also requires an upstream gradient, our `backward` future needs to return a *downstream gradient*. The downstream gradient of a layer is simply its upstream gradient times the local gradient of its ouput with respect to its input: $\\frac{\\partial \\mathcal{L}}{\\partial x} = \\frac{\\partial \\mathcal{L}}{\\partial y} \\frac{\\partial y}{\\partial x}$. For a linear layer $\\frac{\\partial y}{\\partial x}=w$ and so $\\frac{\\partial \\mathcal{L}}{\\partial x} = \\frac{\\partial \\mathcal{L}}{\\partial y} w$.\n",
    "\n",
    "Let us further clarify using an example with a two-layer neural network. The network output is given by\n",
    "$$y_2 = y_1 w_2 + b_2 = (x_1 w_1 + b_1) w_2 + b_2.$$\n",
    "The gradients for the first layer are calculated using the chain rule:\n",
    "$$ \\frac{\\partial \\mathcal{L}}{\\partial w_1} = \\frac{\\partial \\mathcal{L}}{\\partial y_2} \\frac{\\partial y_2}{\\partial y_1} \\frac{\\partial y_1}{\\partial w_1} = \\frac{\\partial \\mathcal{L}}{\\partial y_1} \\frac{\\partial y_1}{\\partial w_1}.$$\n",
    "\n",
    "From the perspective of layer 2, $\\frac{\\partial \\mathcal{L}}{\\partial y_2}$ is the upstream gradient, $\\frac{\\partial y_2}{\\partial y_1} = \\frac{\\partial y_2}{\\partial x_2} = w_2$ is the local gradient, and $\\frac{\\partial \\mathcal{L}}{\\partial y_2} \\frac{\\partial y_2}{\\partial y_1} = \\frac{\\partial \\mathcal{L}}{\\partial y_1}$ is the downstream gradient. From the perspective of layer 1, $\\frac{\\partial \\mathcal{L}}{\\partial y_1}$ is the upstream gradient.\n",
    "\n",
    "You will now implement the `backward` function in the code block below."
   ]
  },
  {
   "cell_type": "code",
   "metadata": {
    "id": "oWcqUhVgfR5A",
    "ExecuteTime": {
     "end_time": "2025-09-14T16:06:28.834065Z",
     "start_time": "2025-09-14T16:06:28.830350Z"
    }
   },
   "source": [
    "class Linear(object):\n",
    "    \"\"\"\n",
    "    Fully connected layer.\n",
    "\n",
    "    Args:\n",
    "        in_features: number of input features\n",
    "        out_features: number of output features\n",
    "    \"\"\"\n",
    "\n",
    "    def __init__(self, in_features, out_features):\n",
    "        super(Linear, self).__init__()\n",
    "\n",
    "        # Define placeholder tensors for layer weight and bias. The placeholder\n",
    "        # tensors should have the correct dimension according to the in_features\n",
    "        # and out_features variables.\n",
    "        self.weight = torch.Tensor(in_features, out_features)\n",
    "        self.bias = torch.Tensor(out_features)\n",
    "\n",
    "        # Initialize parameters\n",
    "        self.init_params()\n",
    "\n",
    "        # NEW: Define a cache varible to save computation, because some of the\n",
    "        # forward pass values would be used during backward pass.\n",
    "        self.cache = None\n",
    "\n",
    "        # NEW: Define variables to store the gradients of the weight and bias\n",
    "        # calculated during the backward pass\n",
    "        self.weight_grad = None\n",
    "        self.bias_grad = None\n",
    "\n",
    "    def init_params(self, std=1.):\n",
    "        \"\"\"\n",
    "        Initialize layer parameters. Sample weight from Gaussian distribution\n",
    "        and bias uniform distribution.\n",
    "\n",
    "        Args:\n",
    "            std: Standard deviation of Gaussian distribution (default: 1.0)\n",
    "        \"\"\"\n",
    "\n",
    "        self.weight = std*torch.randn_like(self.weight)\n",
    "        self.bias = torch.rand_like(self.bias)\n",
    "\n",
    "    def forward(self, x):\n",
    "        \"\"\"\n",
    "        Forward pass of linear layer: multiply input tensor by weights and add\n",
    "        bias. Store input tensor as cache variable.\n",
    "\n",
    "        Args:\n",
    "            x: input tensor\n",
    "\n",
    "        Returns:\n",
    "            y: output tensor\n",
    "        \"\"\"\n",
    "\n",
    "        y = torch.mm(x, self.weight) + self.bias  # forward pass\n",
    "        self.cache = x\n",
    "        return y\n",
    "\n",
    "    def backward(self, dupstream):\n",
    "        \"\"\"\n",
    "        Backward pass of linear layer: calculate gradients of loss with respect\n",
    "        to weight and bias and return downstream gradient dx.\n",
    "\n",
    "        Args:\n",
    "            dupstream: Gradient of loss with respect to output of this layer.\n",
    "\n",
    "        Returns:\n",
    "            dx: Gradient of loss with respect to input of this layer.\n",
    "        \"\"\"\n",
    "        x = self.cache                       # (N, in_features)\n",
    "\n",
    "        # dL/dW = X^T @ dL/dY  → (in_features, out_features)\n",
    "        self.weight_grad = x.t().mm(dupstream)\n",
    "\n",
    "        # dL/db = sum over batch  → (out_features,)\n",
    "        self.bias_grad = dupstream.sum(dim=0)\n",
    "\n",
    "        # dL/dX = dL/dY @ W^T  → (N, in_features)\n",
    "        dx = dupstream.mm(self.weight.t())\n",
    "\n",
    "\n",
    "        return dx"
   ],
   "outputs": [],
   "execution_count": 2
  },
  {
   "cell_type": "markdown",
   "metadata": {
    "id": "TtE7ytKSFBst"
   },
   "source": [
    "Now test the forward and backward pass of the layer on some dummy input.\n",
    "\n",
    "****\n",
    "**What will be the shape of gradient of x w.r.t. y?**\n",
    "****"
   ]
  },
  {
   "cell_type": "code",
   "metadata": {
    "id": "bSALY1wPFGXZ",
    "ExecuteTime": {
     "end_time": "2025-09-14T16:06:28.886043Z",
     "start_time": "2025-09-14T16:06:28.882749Z"
    }
   },
   "source": [
    "# Define layer dimensions\n",
    "n_samples, in_features, out_features = 2, 3, 4\n",
    "# Make random input tensor of dimensions [n_samples, in_features]\n",
    "x = torch.randn((n_samples, in_features))\n",
    "# Define upstream gradient dL/dy as randn\n",
    "dy = torch.randn((n_samples, out_features))\n",
    "\n",
    "# Create a layer from the Linear object class above\n",
    "layer = Linear(in_features, out_features)\n",
    "# Forward pass\n",
    "y = layer.forward(x)\n",
    "# Backward pass\n",
    "dx = layer.backward(dy)\n",
    "\n",
    "# What will be the shape of gradient of x w.r.t. y?\n",
    "print('Shape of gradient x is:', dx.shape)\n",
    "print('Shape correct: ', dx.shape == x.shape)"
   ],
   "outputs": [
    {
     "name": "stdout",
     "output_type": "stream",
     "text": [
      "Shape of gradient x is: torch.Size([2, 3])\n",
      "Shape correct:  True\n"
     ]
    }
   ],
   "execution_count": 3
  },
  {
   "cell_type": "markdown",
   "metadata": {
    "id": "8L5vbHyFIE9m"
   },
   "source": [
    "If the above code block has not returned any errors we can compare our implementation to the PyTorch linear layer [[docs](https://pytorch.org/docs/stable/generated/torch.nn.Linear.html#torch.nn.Linear)] from `torch.nn`. We do so by initializing a `nn.Linear` layer and setting the `weight` and `bias` to the same values as in our own linear layer.\n",
    "\n",
    "PyTorch layers store their parameters as a `Parameter`, which is a `Tensor` subclass with some special properties [[docs](https://pytorch.org/docs/stable/generated/torch.nn.parameter.Parameter.html)]. We therefore need to wrap our `layer.weight` and `layer.bias` in a `nn.Parameter` when using in `nn.Linear`. Moreover, the `weight` tensor is transposed in `nn.Linear`.\n",
    "\n",
    "PyTorch does not require the gradients to be specified for each layer individually but instead uses a mechanism called Autograd for automatic differentiation. To enable this for our dummy input we need to set the `requires_grad` parameter of the input tensor to `True`. More information about Autograd can be found in the official [docs](https://pytorch.org/docs/stable/notes/autograd.html) and in this excellent [tutorial](https://blog.paperspace.com/pytorch-101-understanding-graphs-and-automatic-differentiation/)."
   ]
  },
  {
   "cell_type": "code",
   "metadata": {
    "id": "xa-_W-MgFJzN",
    "ExecuteTime": {
     "end_time": "2025-09-14T16:06:29.061440Z",
     "start_time": "2025-09-14T16:06:29.031003Z"
    }
   },
   "source": [
    "# Create Linear layer from torch.nn module\n",
    "torch_layer = nn.Linear(in_features, out_features)\n",
    "\n",
    "# Load the parameters from our layer into the Pytorch layer\n",
    "torch_layer.weight = nn.Parameter(layer.weight.T) # transpose weight by .t()\n",
    "torch_layer.bias = nn.Parameter(layer.bias)\n",
    "\n",
    "# We create a copy of the input tensor so we can use x for all other layers\n",
    "# without overwriting its gradients\n",
    "x_lin = x.clone()\n",
    "# Enable requires_grad for x_lin\n",
    "x_lin.requires_grad = True\n",
    "\n",
    "# Perform forward pass\n",
    "torch_y = torch_layer(x_lin)\n",
    "\n",
    "# Perform bacward pass\n",
    "torch_y.backward(dy)\n",
    "\n",
    "# What will be the shape of gradient of x w.r.t. y?\n",
    "print('Shape of gradient x is:', dx.shape)\n",
    "print('Shape correct:', x_lin.grad.shape == x_lin.shape)"
   ],
   "outputs": [
    {
     "name": "stdout",
     "output_type": "stream",
     "text": [
      "Shape of gradient x is: torch.Size([2, 3])\n",
      "Shape correct: True\n"
     ]
    }
   ],
   "execution_count": 4
  },
  {
   "cell_type": "markdown",
   "metadata": {
    "id": "NjE7DIp9Ltut"
   },
   "source": [
    "We now compare the gradients of both implementations using `torch.allclose` [[docs](https://pytorch.org/docs/stable/generated/torch.allclose.html)], which returns `True` if all elements in both tensors are sufficiently \"close\" to each other.\n",
    "\n",
    "Your backward implementation of the linear layer is therefore correct if `True` is returned for all gradients."
   ]
  },
  {
   "cell_type": "code",
   "metadata": {
    "id": "3DMC0nrYNkIf",
    "ExecuteTime": {
     "end_time": "2025-09-14T16:06:29.134309Z",
     "start_time": "2025-09-14T16:06:29.132107Z"
    }
   },
   "source": [
    "db_same = torch.allclose(layer.bias_grad, torch_layer.bias.grad)\n",
    "dx_same = torch.allclose(dx, x_lin.grad)\n",
    "print(\"Custom grad W:\", layer.weight_grad.shape)\n",
    "print(\"Torch grad W:\", torch_layer.weight.grad.shape)"
   ],
   "outputs": [
    {
     "name": "stdout",
     "output_type": "stream",
     "text": [
      "Custom grad W: torch.Size([3, 4])\n",
      "Torch grad W: torch.Size([4, 3])\n"
     ]
    }
   ],
   "execution_count": 5
  },
  {
   "cell_type": "code",
   "metadata": {
    "id": "rOphZSwhMqn6",
    "ExecuteTime": {
     "end_time": "2025-09-14T16:06:29.309356Z",
     "start_time": "2025-09-14T16:06:29.306567Z"
    }
   },
   "source": [
    "class ReLU(object):\n",
    "    def __init__(self):\n",
    "        super(ReLU, self).__init__()\n",
    "        self.cache = None\n",
    "\n",
    "    def forward(self, x):\n",
    "        y = torch.clamp(x, min=0)\n",
    "        self.cache = x     # store input for backward\n",
    "        return y\n",
    "\n",
    "    def backward(self, dupstream):\n",
    "        x = self.cache\n",
    "        dx = dupstream * (x > 0).float()\n",
    "        return dx\n",
    "\n",
    "class Sigmoid(object):\n",
    "    def __init__(self):\n",
    "        super(Sigmoid, self).__init__()\n",
    "        self.cache = None\n",
    "\n",
    "    def forward(self, x):\n",
    "        y = 1.0 / (1.0 + torch.exp(-x))\n",
    "        self.cache = y     # store sigmoid output for backward\n",
    "        return y\n",
    "\n",
    "    def backward(self, dupstream):\n",
    "        y = self.cache\n",
    "        dx = dupstream * y * (1 - y)\n",
    "        return dx"
   ],
   "outputs": [],
   "execution_count": 6
  },
  {
   "cell_type": "markdown",
   "metadata": {
    "id": "FtOu5BCKQvky"
   },
   "source": [
    "Test the backward pass of both non-linearities using the dummy input and gradients from before.\n",
    "\n",
    "****\n",
    "**What will be the shapes of the output tensors?**\n",
    "****"
   ]
  },
  {
   "cell_type": "code",
   "metadata": {
    "id": "i-sCWIhNOetw",
    "ExecuteTime": {
     "end_time": "2025-09-14T16:06:29.364457Z",
     "start_time": "2025-09-14T16:06:29.358881Z"
    }
   },
   "source": [
    "# Define layer dimensions and dummy input\n",
    "n_samples, in_features = 2, 3\n",
    "# Make random input tensor of dimensions [n_samples, in_features]\n",
    "x = torch.randn((n_samples, in_features))\n",
    "\n",
    "# Define ReLU and Sigmoid layers\n",
    "relu = ReLU()\n",
    "sigmoid = Sigmoid()\n",
    "\n",
    "# Define upstream gradient dL/dy as ones\n",
    "dy = torch.randn((n_samples, in_features))\n",
    "print('dy:', dy)\n",
    "\n",
    "y_relu = relu.forward(x)\n",
    "y_sigmoid = sigmoid.forward(x)\n",
    "\n",
    "# Backward pass\n",
    "dx_relu = relu.backward(dy)\n",
    "dx_sigmoid = sigmoid.backward(dy)\n",
    "\n",
    "# What will be the shapes of gradient tensors dx_relu and dx_sigmoid?\n",
    "print('Output shapes from ReLU and Sigmoid: ', dx_relu.shape, dx_sigmoid.shape)\n",
    "print('Shape of gradient x from ReLU correct:', dx_relu.shape == x.shape)\n",
    "print('Shape of gradient x from Sigmoid correct:', dx_sigmoid.shape == x.shape)"
   ],
   "outputs": [
    {
     "name": "stdout",
     "output_type": "stream",
     "text": [
      "dy: tensor([[ 0.2941,  0.7283,  0.4159],\n",
      "        [-0.1980,  0.2803,  0.3052]])\n",
      "Output shapes from ReLU and Sigmoid:  torch.Size([2, 3]) torch.Size([2, 3])\n",
      "Shape of gradient x from ReLU correct: True\n",
      "Shape of gradient x from Sigmoid correct: True\n"
     ]
    }
   ],
   "execution_count": 7
  },
  {
   "cell_type": "markdown",
   "metadata": {
    "id": "7hiL-1zwRh_G"
   },
   "source": [
    "Now perform a forward and backward pass with the ReLU and Sigmoid activation functions from `torch.nn` and compare the outputs to your implementation.\n",
    "\n",
    "A list of all available non-linearities in PyTorch can be found [[here](https://pytorch.org/docs/stable/nn.html#non-linear-activations-weighted-sum-nonlinearity)]."
   ]
  },
  {
   "cell_type": "code",
   "metadata": {
    "id": "rCpv6e_bR6Dg",
    "ExecuteTime": {
     "end_time": "2025-09-14T16:06:29.514147Z",
     "start_time": "2025-09-14T16:06:29.509104Z"
    }
   },
   "source": [
    "# We create a copy of the input tensor so we can use x for all other layers\n",
    "# without overwriting its gradients\n",
    "x_relu = x.clone()\n",
    "x_sigmoid = x.clone()\n",
    "# Enable requires_grad\n",
    "x_relu.requires_grad = True\n",
    "x_sigmoid.requires_grad = True\n",
    "\n",
    "print('dy: ', dy)\n",
    "print('---')\n",
    "\n",
    "# ReLU forward pass\n",
    "torch_relu = nn.ReLU()\n",
    "torch_y_relu = torch_relu(x_relu)\n",
    "torch_y_relu.backward(dy)\n",
    "\n",
    "# Sigmoid forward pass\n",
    "torch_sigmoid = nn.Sigmoid()\n",
    "torch_y_sigmoid = torch_sigmoid(x_sigmoid)\n",
    "torch_y_sigmoid.backward(dy)\n",
    "\n",
    "# Compare outputs using torch.allclose\n",
    "dx_relu_same = torch.allclose(dx_relu, x_relu.grad)\n",
    "print('dx_relu identical: ', dx_relu_same)\n",
    "\n",
    "print(f\"dx_relu:\\n {dx_relu}\")\n",
    "print(f\"pytorch x_relu.grad:\\n {x_relu.grad}\")\n",
    "\n",
    "print('---')\n",
    "\n",
    "dx_sigmoid_same = torch.allclose(dx_sigmoid, x_sigmoid.grad)\n",
    "print('dx_sigmoid identical: ', dx_sigmoid_same)\n",
    "\n",
    "print(f\"dx_sigmoid:\\n {dx_sigmoid}\")\n",
    "print(f\"pytorch x_sigmoid.grad:\\n {x_sigmoid.grad}\")"
   ],
   "outputs": [
    {
     "name": "stdout",
     "output_type": "stream",
     "text": [
      "dy:  tensor([[ 0.2941,  0.7283,  0.4159],\n",
      "        [-0.1980,  0.2803,  0.3052]])\n",
      "---\n",
      "dx_relu identical:  True\n",
      "dx_relu:\n",
      " tensor([[0.0000, 0.7283, 0.4159],\n",
      "        [-0.0000, 0.0000, 0.3052]])\n",
      "pytorch x_relu.grad:\n",
      " tensor([[0.0000, 0.7283, 0.4159],\n",
      "        [0.0000, 0.0000, 0.3052]])\n",
      "---\n",
      "dx_sigmoid identical:  True\n",
      "dx_sigmoid:\n",
      " tensor([[ 0.0563,  0.1410,  0.1039],\n",
      "        [-0.0495,  0.0701,  0.0557]])\n",
      "pytorch x_sigmoid.grad:\n",
      " tensor([[ 0.0563,  0.1410,  0.1039],\n",
      "        [-0.0495,  0.0701,  0.0557]])\n"
     ]
    }
   ],
   "execution_count": 8
  },
  {
   "cell_type": "markdown",
   "metadata": {
    "id": "X7bn6PyoNF8r"
   },
   "source": [
    "## A2.3 Network class - backward pass and update step\n",
    "\n",
    "We will now extend our neural network class with a `backward` function that calculates the gradients for all parameters in the network and a `optimizer_step` function that performs a parameter update step using gradient descent. After calculating the gradients the weights and biases are updated as\n",
    "$$w' = w - \\eta\\frac{\\partial L}{\\partial w}, \\qquad b' = b - \\eta\\frac{\\partial L}{\\partial b},$$\n",
    "where $w'$ and $b'$ are the new weights and biases and $\\eta$ is the gradient descent step size, also called the learning rate."
   ]
  },
  {
   "cell_type": "code",
   "metadata": {
    "id": "vi8luwCMgobr",
    "ExecuteTime": {
     "end_time": "2025-09-14T16:06:29.679626Z",
     "start_time": "2025-09-14T16:06:29.675769Z"
    }
   },
   "source": [
    "class Net(object):\n",
    "    \"\"\"\n",
    "    Neural network object containing layers.\n",
    "\n",
    "    Args:\n",
    "        layers: list of layers in neural network\n",
    "    \"\"\"\n",
    "    def __init__(self, layers):\n",
    "        self.layers = layers\n",
    "\n",
    "        # Initialize params\n",
    "        self.reset_params()\n",
    "\n",
    "    def reset_params(self, std=1.):\n",
    "        \"\"\"\n",
    "        Reset network parameters. Applies `init_params` to all layers with\n",
    "        learnable parameters.\n",
    "\n",
    "        Args:\n",
    "            std: Standard deviation of Gaussian distribution (default: 0.1)\n",
    "        \"\"\"\n",
    "\n",
    "        for layer in self.layers:\n",
    "            if hasattr(layer, 'init_params'):\n",
    "                layer.init_params(std=std)\n",
    "\n",
    "    def forward(self, x):\n",
    "        \"\"\"\n",
    "        Performs forward pass through all layers of the network.\n",
    "\n",
    "        Args:\n",
    "            x: input tensor\n",
    "\n",
    "        Returns:\n",
    "            x: output tensor\n",
    "        \"\"\"\n",
    "\n",
    "        for layer in self.layers:\n",
    "            x = layer.forward(x)\n",
    "\n",
    "        return x\n",
    "\n",
    "    def backward(self, dupstream):\n",
    "        \"\"\"\n",
    "        Backprop through all layers in reverse order.\n",
    "        dupstream: dL/d(output_of_net)\n",
    "        Returns: dL/d(input_of_net) as dx\n",
    "        \"\"\"\n",
    "        dx = dupstream\n",
    "        for layer in reversed(self.layers):\n",
    "            # Layers without backward (e.g., some custom stateless) are skipped\n",
    "            if hasattr(layer, 'backward'):\n",
    "                dx = layer.backward(dx)\n",
    "        return dx\n",
    "\n",
    "    def optimizer_step(self, lr):\n",
    "        \"\"\"\n",
    "        Updates network weights by performing a step in the negative gradient\n",
    "        direction in each layer. The step size is determined by the learning\n",
    "        rate.\n",
    "\n",
    "        Args:\n",
    "            lr: Learning rate to use for update step.\n",
    "        \"\"\"\n",
    "\n",
    "        for layer in self.layers:\n",
    "            if hasattr(layer, 'weight') and layer.weight_grad is not None:\n",
    "                # ensure matching shapes\n",
    "                if layer.weight.shape != layer.weight_grad.shape:\n",
    "                    raise RuntimeError(f\"Shape mismatch W {layer.weight.shape} vs dW {layer.weight_grad.shape}\")\n",
    "                layer.weight -= lr * layer.weight_grad\n",
    "            if hasattr(layer, 'bias') and layer.bias_grad is not None:\n",
    "                layer.bias  -= lr * layer.bias_grad"
   ],
   "outputs": [],
   "execution_count": 9
  },
  {
   "cell_type": "markdown",
   "metadata": {
    "id": "7xLhaGmqNdAw"
   },
   "source": [
    "We will create a simple 2-layer network with ReLU non-linearity and test the forward and backward pass using the same dummy input as before."
   ]
  },
  {
   "cell_type": "code",
   "metadata": {
    "id": "5k4uPheAjLsY",
    "ExecuteTime": {
     "end_time": "2025-09-14T16:06:29.731937Z",
     "start_time": "2025-09-14T16:06:29.728860Z"
    }
   },
   "source": [
    "# Define layer dimensions\n",
    "n_samples, in_features, hidden_dim, out_features =   3, 3, 5, 4\n",
    "# Make random input tensor of dimensions [n_samples, in_features]\n",
    "x = torch.randn((n_samples, in_features))\n",
    "\n",
    "\n",
    "# Define and initialize layers\n",
    "layers = [Linear(in_features, hidden_dim),\n",
    "          ReLU(),\n",
    "          Linear(hidden_dim, out_features)]\n",
    "\n",
    "# Initialize network\n",
    "net = Net(layers)\n",
    "\n",
    "# Do forward pass\n",
    "y = net.forward(x)\n",
    "\n",
    "# Gradient of y w.r.t. y is 1\n",
    "dy = torch.randn((n_samples, out_features))\n",
    "\n",
    "# Do backward pass\n",
    "dx = net.backward(dy)\n",
    "\n",
    "# What will be the shape of gradient x?\n",
    "print('Shape of gradient x:', dx.shape)"
   ],
   "outputs": [
    {
     "name": "stdout",
     "output_type": "stream",
     "text": [
      "Shape of gradient x: torch.Size([3, 3])\n"
     ]
    }
   ],
   "execution_count": 10
  },
  {
   "cell_type": "markdown",
   "metadata": {
    "id": "_LMryIa6V7Zd"
   },
   "source": [
    "We will now again create the same neural network in PyTorch. PyTorch uses the Autograd mechanism to calculate all gradients in the network, so there is no need to define a backward function."
   ]
  },
  {
   "cell_type": "code",
   "metadata": {
    "id": "Mln6iWyrP1NF",
    "ExecuteTime": {
     "end_time": "2025-09-14T16:06:29.881572Z",
     "start_time": "2025-09-14T16:06:29.878377Z"
    }
   },
   "source": [
    "class TorchNet(nn.Module):\n",
    "    \"\"\"\n",
    "    PyTorch neural network. Network layers are defined in __init__ and forward\n",
    "    pass implemented in forward.\n",
    "\n",
    "    Args:\n",
    "        in_features: number of features in input layer\n",
    "        hidden_dim: number of features in hidden dimension\n",
    "        out_features: number of features in output layer\n",
    "    \"\"\"\n",
    "\n",
    "    def __init__(self, in_features, hidden_dim, out_features):\n",
    "        super(TorchNet, self).__init__()\n",
    "\n",
    "        self.layer1 = nn.Linear(in_features, hidden_dim)\n",
    "        self.relu = nn.ReLU()\n",
    "        self.layer2 = nn.Linear(hidden_dim, out_features)\n",
    "\n",
    "    def forward(self, x):\n",
    "        x = self.layer1(x)\n",
    "        x = self.relu(x)\n",
    "        x = self.layer2(x)\n",
    "        return x\n",
    "\n",
    "# Initialize Pytorch network\n",
    "torch_net = TorchNet(in_features, hidden_dim, out_features)\n",
    "print(torch_net)"
   ],
   "outputs": [
    {
     "name": "stdout",
     "output_type": "stream",
     "text": [
      "TorchNet(\n",
      "  (layer1): Linear(in_features=3, out_features=5, bias=True)\n",
      "  (relu): ReLU()\n",
      "  (layer2): Linear(in_features=5, out_features=4, bias=True)\n",
      ")\n"
     ]
    }
   ],
   "execution_count": 11
  },
  {
   "cell_type": "markdown",
   "metadata": {
    "id": "jQAFYgOtXTFX"
   },
   "source": [
    "We will now again compare the gradients of the loss w.r.t. to the input tensor for both networks. Therefore we again need to load the weights from our network into the PyTorch network."
   ]
  },
  {
   "cell_type": "code",
   "metadata": {
    "id": "dBYiJnRwQXqB",
    "ExecuteTime": {
     "end_time": "2025-09-14T16:06:30.031865Z",
     "start_time": "2025-09-14T16:06:30.028256Z"
    }
   },
   "source": [
    "# Load the parameters from our model into the Pytorch model\n",
    "torch_net.layer1.weight = nn.Parameter(net.layers[0].weight.T) # transpose weight by .T\n",
    "torch_net.layer1.bias = nn.Parameter(net.layers[0].bias)\n",
    "torch_net.layer2.weight = nn.Parameter(net.layers[2].weight.T) # transpose weight by .T\n",
    "torch_net.layer2.bias = nn.Parameter(net.layers[2].bias)\n",
    "\n",
    "# Make copy of x\n",
    "torch_x = x.clone()\n",
    "torch_x.requires_grad = True\n",
    "\n",
    "# Perform forward pass\n",
    "torch_y = torch_net(torch_x)\n",
    "\n",
    "# Perform backward pass\n",
    "torch_y.backward(dy)\n",
    "\n",
    "# What will be the shape of gradient x?\n",
    "print('Shape of gradient x is correct:', dx.shape == torch_x.grad.shape)\n",
    "\n",
    "# Compare gradients using torch.allclose\n",
    "dx_same = torch.allclose(dx, torch_x.grad)\n",
    "print('Gradients identical: ', dx_same)"
   ],
   "outputs": [
    {
     "name": "stdout",
     "output_type": "stream",
     "text": [
      "Shape of gradient x is correct: True\n",
      "Gradients identical:  True\n"
     ]
    }
   ],
   "execution_count": 12
  },
  {
   "cell_type": "markdown",
   "metadata": {
    "id": "eKrDW462NvNQ"
   },
   "source": [
    "##A2.4 Revisiting the XOR problem\n",
    "\n",
    "We revisit the XOR problem for the previous assignment and solve it by training our network with the backpropagation algorithm.\n",
    "\n",
    "The XOR problem consists of 4 data points belonging to 2 classes which cannot be separated by a linear decision boundary.\n",
    "\n",
    "| x0   | x1   | y    |\n",
    "| ---- | ---- | ---- |\n",
    "| 0    | 0    | 0    |\n",
    "| 0    | 1    | 1    |\n",
    "| 1    | 0    | 1    |\n",
    "| 1    | 1    | 0    |\n",
    "\n",
    "The class labels `y` are [one-hot encoded](https://en.wikipedia.org/wiki/One-hot#Machine_learning_and_statistics), i.e. for each class a binary value indicates whether the sample belongs to it or not. For instance, given classes `1,2,3,4,5` the one-hot encoding of class `4` is given by `[0,0,0,1,0]`. One-hot encoding is a natural way to represent class labels in a classification task since a neural network outputs a class probability vector. `[0,0,0,1,0]` then simply corresponds to a 0% chance of the sample belonging the classes `1,2,3,5` and a 100% chance of it belonging to class `4`."
   ]
  },
  {
   "cell_type": "code",
   "metadata": {
    "id": "lR9D37H6JytZ",
    "ExecuteTime": {
     "end_time": "2025-09-14T16:06:30.179478Z",
     "start_time": "2025-09-14T16:06:30.177455Z"
    }
   },
   "source": [
    "x_xor = torch.tensor([[0, 0], [0, 1], [1, 0], [1, 1]], dtype=torch.float32)\n",
    "y_xor = torch.tensor([[1, 0], [0, 1], [0, 1], [1, 0]]) # one-hot encoded"
   ],
   "outputs": [],
   "execution_count": 13
  },
  {
   "cell_type": "code",
   "metadata": {
    "id": "Ll4xMtgPKpSc",
    "colab": {
     "base_uri": "https://localhost:8080/",
     "height": 295
    },
    "outputId": "b1a09d63-afac-4894-e54d-2fde039bcab3",
    "ExecuteTime": {
     "end_time": "2025-09-14T16:06:30.544795Z",
     "start_time": "2025-09-14T16:06:30.228234Z"
    }
   },
   "source": [
    "def plot(x, y, net=None):\n",
    "    \"\"\"\n",
    "    Plotter function for XOR dataset and classifier boundaries (optional).\n",
    "\n",
    "    Args:\n",
    "        x: Nx2 dimensional data\n",
    "        y: N dimensional labels\n",
    "        net: Model which has a forward function\n",
    "    \"\"\"\n",
    "    # Convert one-hot to class id\n",
    "    y = torch.argmax(y, dim=1)\n",
    "\n",
    "    # Plot decision boundary if net is given\n",
    "    if net:\n",
    "        h = 0.005\n",
    "        x_min, x_max = x[:, 0].min() - 1, x[:, 0].max() + 1\n",
    "        y_min, y_max = x[:, 1].min() - 1, x[:, 1].max() + 1\n",
    "\n",
    "        xx, yy = torch.meshgrid(torch.arange(x_min, x_max, h),\n",
    "                                torch.arange(y_min, y_max, h))\n",
    "\n",
    "        in_tensor = torch.cat((xx.reshape((-1,1)), yy.reshape((-1,1))), dim=1)\n",
    "\n",
    "        z = net.forward(in_tensor)\n",
    "        z = torch.argmax(z, dim=1)\n",
    "        z = z.reshape(xx.shape)\n",
    "        plt.contourf(xx, yy, z, cmap=plt.cm.coolwarm)\n",
    "\n",
    "    # Plot data points\n",
    "    plt.scatter(x[:, 0], x[:, 1], c=y, cmap=plt.cm.coolwarm, edgecolors='k')\n",
    "    plt.title('XOR problem')\n",
    "    plt.xlabel('x0')\n",
    "    plt.ylabel('x1')\n",
    "\n",
    "    plt.show()\n",
    "\n",
    "# Visualize\n",
    "plot(x_xor, y_xor)"
   ],
   "outputs": [
    {
     "data": {
      "text/plain": [
       "<Figure size 640x480 with 1 Axes>"
      ],
      "image/png": "[encoded data removed]"
     },
     "metadata": {},
     "output_type": "display_data",
     "jetTransient": {
      "display_id": null
     }
    }
   ],
   "execution_count": 14
  },
  {
   "cell_type": "markdown",
   "metadata": {
    "id": "g1PAklq65pew"
   },
   "source": [
    "## A2.5 Revisiting the training loop\n",
    "\n",
    "We will now revisit the training loop and implement the backward pass and optimizer step to train the network from the training data. We therefore need to implement the gradient of the MSE loss with respect to the prediction $\\hat{y}$.\n",
    "\n",
    "Given prediction $\\hat{y}$ and groud-truth $y$ the MSE loss is defined as:\n",
    "$$\\text{MSE}(\\hat{y},y)= \\frac{1}{n} \\sum_{i=1}^n (\\hat{y}-y)^2 $$\n",
    "\n",
    "Again keep in mind that $\\hat{y}$ is a class probability vector and $y$ is a one-hot encoded representation."
   ]
  },
  {
   "cell_type": "code",
   "metadata": {
    "id": "gLZE2-Pe0zkq",
    "ExecuteTime": {
     "end_time": "2025-09-14T16:06:30.646016Z",
     "start_time": "2025-09-14T16:06:30.643993Z"
    }
   },
   "source": [
    "def MSELoss(y_true, y_pred):\n",
    "    \"\"\"\n",
    "    Computes mean squared error loss.\n",
    "    Returns loss (scalar tensor) and dL/dy_pred with same shape as y_pred.\n",
    "    \"\"\"\n",
    "    # Mean squared error\n",
    "    loss = torch.mean((y_pred - y_true) ** 2)\n",
    "\n",
    "    # Gradient wrt predictions\n",
    "    N = y_pred.numel()\n",
    "    grad = (2.0 / N) * (y_pred - y_true)\n",
    "\n",
    "    return loss, grad"
   ],
   "outputs": [],
   "execution_count": 15
  },
  {
   "cell_type": "markdown",
   "metadata": {
    "id": "FZ8jint2Kbqk"
   },
   "source": [
    "You will now implement the training loop, which roughly speaking consists of the following steps:\n",
    "```\n",
    "while not converged:\n",
    " 1. feed training sample to network to predict output (forward step)\n",
    " 2. compare prediction to label (compute loss)\n",
    " 3. use comparison to update network parameters (backward and optimizer step)\n",
    "```"
   ]
  },
  {
   "metadata": {
    "ExecuteTime": {
     "end_time": "2025-09-14T16:06:30.749184Z",
     "start_time": "2025-09-14T16:06:30.746873Z"
    }
   },
   "cell_type": "code",
   "source": [
    "def CrossEntropyLoss(y_true, y_pred):\n",
    "    # softmax for predictions\n",
    "    exps = torch.exp(y_pred - y_pred.max(dim=1, keepdim=True).values)\n",
    "    probs = exps / exps.sum(dim=1, keepdim=True)\n",
    "\n",
    "    # avoid log(0)\n",
    "    eps = 1e-9\n",
    "    loss = -torch.mean(torch.sum(y_true * torch.log(probs + eps), dim=1))\n",
    "\n",
    "    # gradient wrt logits\n",
    "    grad = (probs - y_true) / y_true.shape[0]\n",
    "    return loss, grad"
   ],
   "outputs": [],
   "execution_count": 16
  },
  {
   "cell_type": "code",
   "metadata": {
    "id": "--1sxOkIQzA4",
    "ExecuteTime": {
     "end_time": "2025-09-14T16:06:31.119806Z",
     "start_time": "2025-09-14T16:06:30.798336Z"
    }
   },
   "source": [
    "# Define network dimensions\n",
    "in_features, hidden_dim, out_features = 2, 10, 2\n",
    "\n",
    "# Training parameters\n",
    "learning_rate = 5e-1  # step size for gradient descent\n",
    "optim_steps = 200  # network should generally converge within 100 steps\n",
    "\n",
    "# Define and initialize layers\n",
    "layers = [Linear(in_features, hidden_dim),\n",
    "          Sigmoid(),   # or ReLU\n",
    "          Linear(hidden_dim, out_features)]\n",
    "\n",
    "# Initialize network\n",
    "net = Net(layers)\n",
    "\n",
    "# Define list to store loss and accuracy of each iteration\n",
    "losses = []\n",
    "accs = []\n",
    "for i in range(optim_steps):\n",
    "    y_pred = net.forward(x_xor)\n",
    "    loss, dLdy = CrossEntropyLoss(y_xor, y_pred)\n",
    "    losses.append(loss.item())\n",
    "\n",
    "    net.backward(dLdy)\n",
    "    net.optimizer_step(learning_rate)\n",
    "\n",
    "    correct = torch.argmax(y_pred, dim=1) == torch.argmax(y_xor, dim=1)\n",
    "    accs.append((correct.sum() / len(y_pred)).item())\n",
    "\n",
    "# Plot loss and accuracy\n",
    "plt.figure(figsize=(14,4))\n",
    "plt.subplot(1,3,1)\n",
    "plt.xlabel('Iterations')\n",
    "plt.ylabel('Loss')\n",
    "plt.plot(losses)\n",
    "plt.grid()\n",
    "\n",
    "plt.subplot(1,3,2)\n",
    "plt.xlabel('Iterations')\n",
    "plt.ylabel('Accuracy (%)')\n",
    "plt.plot(accs)\n",
    "plt.grid()\n",
    "\n",
    "# Show decision boundary\n",
    "plt.subplot(1,3,3)\n",
    "plot(x_xor, y_xor, net)"
   ],
   "outputs": [
    {
     "name": "stderr",
     "output_type": "stream",
     "text": [
      "/Users/ioan-hedea/DataspellProjects/deepLearning4005/.venv/lib/python3.12/site-packages/torch/functional.py:554: UserWarning: torch.meshgrid: in an upcoming release, it will be required to pass the indexing argument. (Triggered internally at /Users/runner/work/pytorch/pytorch/pytorch/aten/src/ATen/native/TensorShape.cpp:4324.)\n",
      "  return _VF.meshgrid(tensors, **kwargs)  # type: ignore[attr-defined]\n"
     ]
    },
    {
     "data": {
      "text/plain": [
       "<Figure size 1400x400 with 3 Axes>"
      ],
      "image/png": "[encoded data removed]"
     },
     "metadata": {},
     "output_type": "display_data",
     "jetTransient": {
      "display_id": null
     }
    }
   ],
   "execution_count": 17
  },
  {
   "cell_type": "markdown",
   "metadata": {
    "id": "zyitaiDVfc4Q"
   },
   "source": [
    "The network should now successfully converge within a reasonable number of iterations and solve the XOR problem with 100% accuracy. You trained your first neural network, great job! This is still a relatively primitive optimization algorithm and we will dive more in depth into optimizing neural networks in later assignments.\n",
    "\n",
    "Replace the ReLU non-linearity by the Sigmoid function and train the network again. You will see that the network has much more difficulty converging - in fact, you might need to increase the number of `optim_steps` to `500`. If you look at the loss graph you'll see that the network initially learns quickly, i.e. the loss rapidly decreases, but learning slows down far before reaching 100% accuracy. Since the network parameters are updated by gradient descent, slow learning simply means that the gradients have become small. To understand why this happens, let's again look at the Sigmoid function $\\sigma(x)$ and its derivative $\\sigma'(x)$:\n"
   ]
  },
  {
   "cell_type": "code",
   "metadata": {
    "colab": {
     "base_uri": "https://localhost:8080/",
     "height": 281
    },
    "id": "SSCQHbk0Sy7L",
    "outputId": "a4ff8560-1837-4a93-fae4-ecf71b5f3528",
    "ExecuteTime": {
     "end_time": "2025-09-14T16:06:31.292836Z",
     "start_time": "2025-09-14T16:06:31.179969Z"
    }
   },
   "source": [
    "# Plot the sigmoid function and its derivative\n",
    "x = torch.linspace(-5, 5, 51)\n",
    "y = 1 / (1+torch.exp(-x))\n",
    "dydx = torch.exp(x)/(1+torch.exp(x))**2\n",
    "\n",
    "plt.title('Sigmoid function and derivative')\n",
    "plt.plot(x,y)\n",
    "plt.plot(x,dydx)\n",
    "plt.legend([r\"$\\sigma(x)$\", r\"$\\sigma'(x)$\"])\n",
    "plt.grid()"
   ],
   "outputs": [
    {
     "data": {
      "text/plain": [
       "<Figure size 640x480 with 1 Axes>"
      ],
      "image/png": "[encoded data removed]"
     },
     "metadata": {},
     "output_type": "display_data",
     "jetTransient": {
      "display_id": null
     }
    }
   ],
   "execution_count": 18
  },
  {
   "cell_type": "markdown",
   "metadata": {
    "id": "hx2pRNyoXY-U"
   },
   "source": [
    "As you can see, the Sigmoid function saturates for very small and very large input values and as a result its derivative becomes very small, causing learning to slow down. In the next assignment we will learn how to circumvent this."
   ]
  },
  {
   "cell_type": "markdown",
   "metadata": {
    "id": "DDE8wsMIcHCN"
   },
   "source": [
    "## A2.6 Softmax and Cross Entropy Loss\n",
    "\n",
    "So far the classifier scores predicted by our network (also called 'logits') were unbounded and we simply trained the network to minimize the mean squared error between the scores and the one-hot encoded labels. However, in a classification task we would like to interpret the output of our network as class probabilities, i.e. for all inputs $x$ and all classes $k$ we should have $$0 \\leq P(Y=k|X=x) \\leq 1, \\qquad \\sum_kP(Y=k|X=x) = 1.$$\n",
    "This can be achieved by normalizing the logits $z$ using the Softmax layer:\n",
    "$$P(Y=k|X=x) = \\text{softmax}(\\mathbf{z})_k = \\frac{\\exp{z_k}}{\\sum_i^K \\exp{z_i}},$$\n",
    "where $K$ is the number of classes.\n",
    "\n",
    "Implement Softmax below and run the example. Verify that indeed the smallest and largest logits get assigned the smallest and largest probabilities and that the outputs are equal to the PyTorch implementation."
   ]
  },
  {
   "cell_type": "code",
   "metadata": {
    "id": "vjwd9ZGNgtEv",
    "ExecuteTime": {
     "end_time": "2025-09-14T16:06:31.425914Z",
     "start_time": "2025-09-14T16:06:31.351030Z"
    }
   },
   "source": [
    "def Softmax(z):\n",
    "    \"\"\"\n",
    "    Computes softmax output for each sample in batch.\n",
    "\n",
    "    Args:\n",
    "      z: Tensor of logits, dimension [batch, classes].\n",
    "\n",
    "    Return:\n",
    "      p: Softmax probability distribution.\n",
    "    \"\"\"\n",
    "\n",
    "    z_stable = z - z.max(dim=1, keepdim=True).values\n",
    "    exp_z = torch.exp(z_stable)\n",
    "    p = exp_z / exp_z.sum(dim=1, keepdim=True)\n",
    "    return p\n",
    "\n",
    "# Generate random logits, dimension [batch, classes]\n",
    "z = torch.randn(1,5)\n",
    "# Calculate softmax\n",
    "p = Softmax(z)\n",
    "\n",
    "# Verify against PyTorch implementation\n",
    "p_torch = torch.nn.functional.softmax(z, 1)\n",
    "print('Softmax implementation correct: ', torch.allclose(p, p_torch))\n",
    "\n",
    "# Plot z and p\n",
    "plt.subplot(1,2,1)\n",
    "plt.title(r'Logits $z$')\n",
    "_=plt.bar(torch.arange(1,6), z[0,:])\n",
    "plt.subplot(1,2,2)\n",
    "plt.title(r'Probabilities $p$')\n",
    "_=plt.bar(torch.arange(1,6), p[0,:])"
   ],
   "outputs": [
    {
     "name": "stdout",
     "output_type": "stream",
     "text": [
      "Softmax implementation correct:  True\n"
     ]
    },
    {
     "data": {
      "text/plain": [
       "<Figure size 640x480 with 2 Axes>"
      ],
      "image/png": "[encoded data removed]"
     },
     "metadata": {},
     "output_type": "display_data",
     "jetTransient": {
      "display_id": null
     }
    }
   ],
   "execution_count": 19
  },
  {
   "cell_type": "markdown",
   "metadata": {
    "id": "4cthwWyegrsl"
   },
   "source": [
    "The Softmax layer is a vector extension of the Sigmoid function and so unfortunately comes with the same saturation problem causing learning to slow down. Luckily we can overcome this by replacing the MSE loss by the Cross Entropy (CE) loss:\n",
    "$$H(y,p) = -\\sum_i^K y_i \\log(p_i),$$\n",
    "where $y$ is the one-hot encoded label and $p$ is the class probability vector from the Softmax layer.\n",
    "Using the CE loss with the Softmax layer is effective as the $\\log$ in the CE loss can undo the $\\exp$ in the Softmax layer:\n",
    "$$\\log \\text{softmax}(\\mathbf{z})_k = z_k - \\log \\sum_i^K \\exp z_i.$$\n",
    "Because now $z_k$ has a direct contribution to the loss it can never saturate and the gradients will never become too small.\n",
    "\n",
    "The Softmax layer and Cross Entropy loss are used together so often that they are implemented as a single function in Pytorch as `torch.nn.CrossEntropyLoss`. Below we have implemented the CE loss with Softmax so we can use it to train our network. Feel free to go over the code, but you do not need to understand it exactly as the implementation is not very straightforward."
   ]
  },
  {
   "cell_type": "code",
   "metadata": {
    "id": "FEZF9yQ8cT01",
    "ExecuteTime": {
     "end_time": "2025-09-14T16:06:31.505615Z",
     "start_time": "2025-09-14T16:06:31.500599Z"
    }
   },
   "source": [
    "def CrossEntropyLoss(y_true, y_pred):\n",
    "    \"\"\"\n",
    "    Computes softmax output and cross-entropy loss.\n",
    "\n",
    "    Args:\n",
    "      y_true: Tensor containing true labels.\n",
    "      y_pred: Tensor containing predictions.\n",
    "\n",
    "    Return:\n",
    "      loss: Cross-entropy loss.\n",
    "      dy_pred: Gradient of loss w.r.t. y_pred.\n",
    "    \"\"\"\n",
    "\n",
    "    # Calculate softmax using previously defined function\n",
    "    softmax = Softmax(y_pred)\n",
    "\n",
    "    # Convert one-hot vector to class id\n",
    "    y_true = torch.argmax(y_true, axis=1)\n",
    "    # Get number of samples in batch\n",
    "    n = y_true.shape[0]\n",
    "    # Calculate cross entropy loss between y_true and y_pred\n",
    "    log_likelihood = -torch.log(softmax[torch.arange(n),y_true])\n",
    "    # Average over all samples\n",
    "    loss = torch.mean(log_likelihood)\n",
    "\n",
    "    # Caculate the gradient\n",
    "    grad = softmax\n",
    "    softmax[torch.arange(n), y_true] -= 1\n",
    "    grad /= n\n",
    "\n",
    "    return loss, grad"
   ],
   "outputs": [],
   "execution_count": 20
  },
  {
   "cell_type": "markdown",
   "metadata": {
    "id": "oUlGT8Z7A4PW"
   },
   "source": [
    "We will now solve the XOR problem by training the network with the Cross Entropy loss and Sigmoid activation function. The network should be able to converge much faster than using the MSE loss."
   ]
  },
  {
   "cell_type": "code",
   "metadata": {
    "id": "7K3xJzgrcQc6",
    "ExecuteTime": {
     "end_time": "2025-09-14T16:06:31.766507Z",
     "start_time": "2025-09-14T16:06:31.601800Z"
    }
   },
   "source": [
    "# Define network dimensions\n",
    "in_features, hidden_dim, out_features = 2, 10, 2\n",
    "\n",
    "# Training parameters\n",
    "learning_rate = 5e-1  # step size for gradient descent\n",
    "optim_steps = 150  # network should generally converge within 100 steps\n",
    "\n",
    "# Define and initialize layers\n",
    "layers = [Linear(in_features, hidden_dim),\n",
    "          Sigmoid(),\n",
    "          Linear(hidden_dim, out_features)]\n",
    "\n",
    "# Initialize network\n",
    "net = Net(layers)\n",
    "\n",
    "# Define list to store loss and accuracy of each iteration\n",
    "losses = []\n",
    "accs = []\n",
    "for i in range(optim_steps):\n",
    "    # Forward\n",
    "    y_pred = net.forward(x_xor)              # logits\n",
    "\n",
    "    # CE loss + upstream grad\n",
    "    loss, dLdy = CrossEntropyLoss(y_xor, y_pred)\n",
    "    losses.append(loss.item())\n",
    "\n",
    "    # Backward + SGD step\n",
    "    net.backward(dLdy)\n",
    "    net.optimizer_step(learning_rate)\n",
    "\n",
    "    # Accuracy from logits\n",
    "    correct = torch.argmax(y_pred, dim=1) == torch.argmax(y_xor, dim=1)\n",
    "    accs.append((correct.sum() / len(y_pred)).item())\n",
    "\n",
    "# Print prediction\n",
    "print(y_pred)\n",
    "\n",
    "# Plot loss and accuracy\n",
    "plt.figure(figsize=(14,4))\n",
    "plt.subplot(1,3,1)\n",
    "plt.xlabel('Iterations')\n",
    "plt.ylabel('Loss')\n",
    "plt.plot(losses)\n",
    "plt.grid()\n",
    "\n",
    "plt.subplot(1,3,2)\n",
    "plt.xlabel('Iterations')\n",
    "plt.ylabel('Accuracy (%)')\n",
    "plt.plot(accs)\n",
    "plt.grid()\n",
    "\n",
    "# Show decision boundary\n",
    "plt.subplot(1,3,3)\n",
    "plot(x_xor, y_xor, net)"
   ],
   "outputs": [
    {
     "name": "stdout",
     "output_type": "stream",
     "text": [
      "tensor([[2.4900, 2.0286],\n",
      "        [1.4096, 2.4517],\n",
      "        [2.4492, 2.4360],\n",
      "        [2.6661, 2.1648]])\n"
     ]
    },
    {
     "data": {
      "text/plain": [
       "<Figure size 1400x400 with 3 Axes>"
      ],
      "image/png": "[encoded data removed]"
     },
     "metadata": {},
     "output_type": "display_data",
     "jetTransient": {
      "display_id": null
     }
    }
   ],
   "execution_count": 21
  },
  {
   "cell_type": "markdown",
   "metadata": {
    "id": "X7fATXbHjJe0"
   },
   "source": [
    "## [EXTRA] A2.7 MNIST handwritten digit classification\n",
    "In this extra exercise you will use your neural network to solve a real-world classification problem: classifying handwritten digits.\n",
    "\n",
    "The MNIST dataset consists of a training set of 60,000 and a test set of 10,000 samples of 28x28 pixels, which we will flatten to a 1D vector representation to feed into the neural network. In every training iteration we will sample a random batch of 64 data samples (without replacement) to calculate the loss, gradients and update the weights. This random sampling is where the 'Stochastic' in Stochastic Gradient Descent comes from. After every epoch, i.e. after having processed all sampels in the training set, we will evaluate the model on the test set.\n",
    "\n",
    "The following code block downloads the dataset and visualizes some samples.\n",
    "\n"
   ]
  },
  {
   "cell_type": "code",
   "metadata": {
    "id": "X4mMxSNwjHKw",
    "ExecuteTime": {
     "end_time": "2025-09-14T16:06:36.722361Z",
     "start_time": "2025-09-14T16:06:31.821475Z"
    }
   },
   "source": [
    "import matplotlib.pyplot as plt\n",
    "from torch.utils.data import DataLoader\n",
    "from torchvision import datasets, transforms\n",
    "\n",
    "# 1) Define preprocessing: tensor + normalize with MNIST mean/std\n",
    "transform = transforms.Compose([\n",
    "    transforms.ToTensor(),\n",
    "    transforms.Normalize((0.1307,), (0.3081,))\n",
    "])\n",
    "\n",
    "# 2) Download + load datasets\n",
    "train_data = datasets.MNIST(root=\"../data\", train=True, download=True, transform=transform)\n",
    "test_data = datasets.MNIST(root=\"../data\", train=False, download=True, transform=transform)\n",
    "\n",
    "# 3) Wrap them in DataLoaders (for minibatches)\n",
    "train_loader = DataLoader(train_data, batch_size=64, shuffle=True)\n",
    "test_loader = DataLoader(test_data, batch_size=1000)\n",
    "\n",
    "# 4) Visualize a few samples\n",
    "fig, axs = plt.subplots(5, 5, figsize=(5, 5))\n",
    "for i in range(25):\n",
    "    x, label = test_data[i]\n",
    "    ax = axs[i // 5][i % 5]\n",
    "    ax.imshow(x.view(28, 28), cmap=\"gray\")\n",
    "    ax.set_title(str(label))\n",
    "    ax.axis(\"off\")\n",
    "plt.tight_layout()\n",
    "plt.show()\n",
    "\n",
    "print(\"Train set size:\", len(train_data))\n",
    "print(\"Test set size:\", len(test_data))"
   ],
   "outputs": [
    {
     "name": "stderr",
     "output_type": "stream",
     "text": [
      "100.0%\n",
      "100.0%\n",
      "100.0%\n",
      "100.0%\n"
     ]
    },
    {
     "data": {
      "text/plain": [
       "<Figure size 500x500 with 25 Axes>"
      ],
      "image/png": "[encoded data removed]"
     },
     "metadata": {},
     "output_type": "display_data",
     "jetTransient": {
      "display_id": null
     }
    },
    {
     "name": "stdout",
     "output_type": "stream",
     "text": [
      "Train set size: 60000\n",
      "Test set size: 10000\n"
     ]
    }
   ],
   "execution_count": 22
  },
  {
   "cell_type": "code",
   "metadata": {
    "id": "bbTGMd7kkcy-",
    "ExecuteTime": {
     "end_time": "2025-09-14T16:08:45.128122Z",
     "start_time": "2025-09-14T16:08:06.678002Z"
    }
   },
   "source": [
    "# ---- define dims ----\n",
    "in_features  = 28 * 28\n",
    "hidden_dim   = 128\n",
    "out_features = 10\n",
    "\n",
    "# Training parameters\n",
    "learning_rate = 5e-1\n",
    "epochs = 10\n",
    "\n",
    "# Define and initialize layers\n",
    "layers = [Linear(in_features, hidden_dim),\n",
    "          Sigmoid(),                     # or ReLU (with He init)\n",
    "          Linear(hidden_dim, out_features)]\n",
    "net = Net(layers)\n",
    "\n",
    "# Lists for curves\n",
    "train_losses, train_accs = [], []\n",
    "\n",
    "for epoch in range(epochs):\n",
    "    # Training\n",
    "    for i, (x_batch, y_batch) in enumerate(train_loader):\n",
    "        # Flatten to [B, 784]\n",
    "        x_batch = x_batch.flatten(start_dim=1)\n",
    "\n",
    "        # One-hot targets [B, 10], float for math below\n",
    "        y_batch = nn.functional.one_hot(y_batch, num_classes=10).float()\n",
    "\n",
    "        # Forward (logits)\n",
    "        y_pred = net.forward(x_batch)\n",
    "\n",
    "        # ----- Cross-Entropy loss on logits -----\n",
    "        z = y_pred - y_pred.max(dim=1, keepdim=True).values      # stable\n",
    "        exp_z = torch.exp(z)\n",
    "        probs = exp_z / exp_z.sum(dim=1, keepdim=True)\n",
    "\n",
    "        eps = 1e-9\n",
    "        loss = -torch.mean(torch.sum(y_batch * torch.log(probs + eps), dim=1))\n",
    "\n",
    "        # Gradient wrt logits: (probs - onehot)/B\n",
    "        B = y_pred.shape[0]\n",
    "        dLdy = (probs - y_batch) / B\n",
    "\n",
    "        # Backprop + SGD step\n",
    "        net.backward(dLdy)\n",
    "        net.optimizer_step(learning_rate)\n",
    "\n",
    "        # Metrics\n",
    "        train_losses.append(loss.item())\n",
    "        correct = torch.argmax(y_pred, dim=1) == torch.argmax(y_batch, dim=1)\n",
    "        train_accs.append((correct.sum() / len(y_pred)).item())\n",
    "\n",
    "        # Log\n",
    "        if i % 200 == 0:\n",
    "            print('Train Epoch: {} [{}/{} ({:.0f}%)]\\tLoss: {:.6f}'.format(\n",
    "                epoch + 1, i * len(x_batch), len(train_loader.dataset),\n",
    "                100. * i / len(train_loader), loss.item()))\n",
    "\n",
    "    # Validation\n",
    "    test_loss = 0.0\n",
    "    total_correct = 0\n",
    "    for x_batch, y_batch in test_loader:\n",
    "        x_batch = x_batch.flatten(start_dim=1)\n",
    "        y_batch_oh = nn.functional.one_hot(y_batch, num_classes=10).float()\n",
    "\n",
    "        # Forward\n",
    "        y_pred = net.forward(x_batch)\n",
    "\n",
    "        # CE loss (sum over batch so we can average later)\n",
    "        z = y_pred - y_pred.max(dim=1, keepdim=True).values\n",
    "        exp_z = torch.exp(z)\n",
    "        probs = exp_z / exp_z.sum(dim=1, keepdim=True)\n",
    "\n",
    "        eps = 1e-9\n",
    "        batch_loss = -torch.sum(y_batch_oh * torch.log(probs + eps))  # sum, not mean\n",
    "        test_loss += batch_loss.item()\n",
    "\n",
    "        # Accuracy\n",
    "        correct = torch.argmax(y_pred, dim=1) == y_batch\n",
    "        total_correct += correct.sum().item()\n",
    "\n",
    "    # Average loss per example over full test set\n",
    "    test_loss /= len(test_loader.dataset)\n",
    "    test_acc = 100.0 * total_correct / len(test_loader.dataset)\n",
    "    print('\\nTest set: Average loss: {:.4f}, Accuracy: {}/{} ({:.0f}%)\\n'.format(\n",
    "        test_loss, total_correct, len(test_loader.dataset), test_acc))\n",
    "\n",
    "# Curves\n",
    "plt.figure(figsize=(9,4))\n",
    "plt.subplot(1,2,1); plt.xlabel('Iterations'); plt.ylabel('Loss'); plt.plot(train_losses); plt.grid()\n",
    "plt.subplot(1,2,2); plt.xlabel('Iterations'); plt.ylabel('Accuracy (%)'); plt.plot(train_accs); plt.grid()\n",
    "plt.show()"
   ],
   "outputs": [
    {
     "name": "stdout",
     "output_type": "stream",
     "text": [
      "Train Epoch: 1 [0/60000 (0%)]\tLoss: 14.378251\n",
      "Train Epoch: 1 [12800/60000 (21%)]\tLoss: 0.607153\n",
      "Train Epoch: 1 [25600/60000 (43%)]\tLoss: 0.816491\n",
      "Train Epoch: 1 [38400/60000 (64%)]\tLoss: 0.592141\n",
      "Train Epoch: 1 [51200/60000 (85%)]\tLoss: 0.429012\n",
      "\n",
      "Test set: Average loss: 0.4422, Accuracy: 8796/10000 (88%)\n",
      "\n",
      "Train Epoch: 2 [0/60000 (0%)]\tLoss: 0.309199\n",
      "Train Epoch: 2 [12800/60000 (21%)]\tLoss: 0.185394\n",
      "Train Epoch: 2 [25600/60000 (43%)]\tLoss: 0.439073\n",
      "Train Epoch: 2 [38400/60000 (64%)]\tLoss: 0.261562\n",
      "Train Epoch: 2 [51200/60000 (85%)]\tLoss: 0.411337\n",
      "\n",
      "Test set: Average loss: 0.3674, Accuracy: 8945/10000 (89%)\n",
      "\n",
      "Train Epoch: 3 [0/60000 (0%)]\tLoss: 0.171590\n",
      "Train Epoch: 3 [12800/60000 (21%)]\tLoss: 0.524852\n",
      "Train Epoch: 3 [25600/60000 (43%)]\tLoss: 0.133157\n",
      "Train Epoch: 3 [38400/60000 (64%)]\tLoss: 0.272594\n",
      "Train Epoch: 3 [51200/60000 (85%)]\tLoss: 0.180876\n",
      "\n",
      "Test set: Average loss: 0.3140, Accuracy: 9069/10000 (91%)\n",
      "\n",
      "Train Epoch: 4 [0/60000 (0%)]\tLoss: 0.265531\n",
      "Train Epoch: 4 [12800/60000 (21%)]\tLoss: 0.208895\n",
      "Train Epoch: 4 [25600/60000 (43%)]\tLoss: 0.281806\n",
      "Train Epoch: 4 [38400/60000 (64%)]\tLoss: 0.204520\n",
      "Train Epoch: 4 [51200/60000 (85%)]\tLoss: 0.153702\n",
      "\n",
      "Test set: Average loss: 0.2865, Accuracy: 9169/10000 (92%)\n",
      "\n",
      "Train Epoch: 5 [0/60000 (0%)]\tLoss: 0.267433\n",
      "Train Epoch: 5 [12800/60000 (21%)]\tLoss: 0.126582\n",
      "Train Epoch: 5 [25600/60000 (43%)]\tLoss: 0.089916\n",
      "Train Epoch: 5 [38400/60000 (64%)]\tLoss: 0.150412\n",
      "Train Epoch: 5 [51200/60000 (85%)]\tLoss: 0.133279\n",
      "\n",
      "Test set: Average loss: 0.2881, Accuracy: 9164/10000 (92%)\n",
      "\n",
      "Train Epoch: 6 [0/60000 (0%)]\tLoss: 0.095932\n",
      "Train Epoch: 6 [12800/60000 (21%)]\tLoss: 0.190301\n",
      "Train Epoch: 6 [25600/60000 (43%)]\tLoss: 0.149019\n",
      "Train Epoch: 6 [38400/60000 (64%)]\tLoss: 0.051073\n",
      "Train Epoch: 6 [51200/60000 (85%)]\tLoss: 0.226646\n",
      "\n",
      "Test set: Average loss: 0.2683, Accuracy: 9227/10000 (92%)\n",
      "\n",
      "Train Epoch: 7 [0/60000 (0%)]\tLoss: 0.096283\n",
      "Train Epoch: 7 [12800/60000 (21%)]\tLoss: 0.144973\n",
      "Train Epoch: 7 [25600/60000 (43%)]\tLoss: 0.149405\n",
      "Train Epoch: 7 [38400/60000 (64%)]\tLoss: 0.104356\n",
      "Train Epoch: 7 [51200/60000 (85%)]\tLoss: 0.074786\n",
      "\n",
      "Test set: Average loss: 0.2563, Accuracy: 9280/10000 (93%)\n",
      "\n",
      "Train Epoch: 8 [0/60000 (0%)]\tLoss: 0.079624\n",
      "Train Epoch: 8 [12800/60000 (21%)]\tLoss: 0.130635\n",
      "Train Epoch: 8 [25600/60000 (43%)]\tLoss: 0.389991\n",
      "Train Epoch: 8 [38400/60000 (64%)]\tLoss: 0.117230\n",
      "Train Epoch: 8 [51200/60000 (85%)]\tLoss: 0.420341\n",
      "\n",
      "Test set: Average loss: 0.2513, Accuracy: 9297/10000 (93%)\n",
      "\n",
      "Train Epoch: 9 [0/60000 (0%)]\tLoss: 0.199789\n",
      "Train Epoch: 9 [12800/60000 (21%)]\tLoss: 0.214225\n",
      "Train Epoch: 9 [25600/60000 (43%)]\tLoss: 0.108701\n",
      "Train Epoch: 9 [38400/60000 (64%)]\tLoss: 0.072057\n",
      "Train Epoch: 9 [51200/60000 (85%)]\tLoss: 0.127245\n",
      "\n",
      "Test set: Average loss: 0.2483, Accuracy: 9291/10000 (93%)\n",
      "\n",
      "Train Epoch: 10 [0/60000 (0%)]\tLoss: 0.244033\n",
      "Train Epoch: 10 [12800/60000 (21%)]\tLoss: 0.183518\n",
      "Train Epoch: 10 [25600/60000 (43%)]\tLoss: 0.131352\n",
      "Train Epoch: 10 [38400/60000 (64%)]\tLoss: 0.272098\n",
      "Train Epoch: 10 [51200/60000 (85%)]\tLoss: 0.443222\n",
      "\n",
      "Test set: Average loss: 0.2488, Accuracy: 9314/10000 (93%)\n",
      "\n"
     ]
    },
    {
     "data": {
      "text/plain": [
       "<Figure size 900x400 with 2 Axes>"
      ],
      "image/png": "[encoded data removed]"
     },
     "metadata": {},
     "output_type": "display_data",
     "jetTransient": {
      "display_id": null
     }
    }
   ],
   "execution_count": 24
  },
  {
   "cell_type": "markdown",
   "metadata": {
    "id": "48obmfkSS956"
   },
   "source": [
    "Your network can now classify handwritten digits with reasonably high accuracy. Well done!\n",
    "\n",
    "This concludes the second assignment. From the next assignment onwards we will start using more and more built-in PyTorch functionality and will get to know some more advanced methods for training neural networks. Also, we will implement the most prominent building block of modern computer vision: the convolutional layer."
   ]
  }
 ]
}
